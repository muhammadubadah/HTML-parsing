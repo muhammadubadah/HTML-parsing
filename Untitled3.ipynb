{
 "cells": [
  {
   "cell_type": "code",
   "execution_count": null,
   "metadata": {},
   "outputs": [],
   "source": [
    "from html.parser import HTMLParser\n",
    "import os\n",
    "import sys\n",
    "\n",
    "dictionarTags ={}\n",
    "dictionaryCloseTags ={}\n",
    "class MyHTMLParser(HTMLParser):\n",
    "    def handle_starttag(self, tag, attrs):\n",
    "        #print(\"Encountered a start tag:\", tag)\n",
    "        if tag not in dictionarTags:\n",
    "            dictionarTags[tag] = 1\n",
    "        else:\n",
    "            dictionarTags[tag]  +=1    \n",
    "    def display (self):  \n",
    "        print(\"\\n Opening tags dictionary : {}\".format(dictionarTags))\n",
    "        print(\"\\n Closing tags dictionary : {}\".format(dictionaryCloseTags))\n",
    "    def handle_endtag(self, tag):\n",
    "        if tag not in dictionaryCloseTags:\n",
    "            dictionaryCloseTags[tag] = 1\n",
    "        else:\n",
    "            dictionaryCloseTags[tag]  +=1 \n",
    "\n",
    "    #def handle_data(self, data):\n",
    "     #   if data not in dictionarTags:\n",
    "      #      dictionarTags[data] = 1\n",
    "       # else:\n",
    "        #    dictionarTags[data]  +=1 \n",
    "fileNames = list(input(\"please enter comma seperated html file name: eg; file1.html,file2.html \\n\").split(','))\n",
    "#print(fileNames)\n",
    "for fileName in fileNames:\n",
    "    if os.path.isfile(fileName) is True:\n",
    "        parser = MyHTMLParser()\n",
    "        f = open(fileName, 'r')\n",
    "        data = f.read()\n",
    "        #print(type(data))\n",
    "        print(\"Tags Parsing of file {} :\".format(fileName))\n",
    "        parser.feed(data)\n",
    "        parser.display() \n",
    "        dictionarTags ={}\n",
    "    else :\n",
    "        print(fileName, \"Not exists\")\n"
   ]
  },
  {
   "cell_type": "code",
   "execution_count": null,
   "metadata": {},
   "outputs": [],
   "source": []
  }
 ],
 "metadata": {
  "kernelspec": {
   "display_name": "Python 3",
   "language": "python",
   "name": "python3"
  },
  "language_info": {
   "codemirror_mode": {
    "name": "ipython",
    "version": 3
   },
   "file_extension": ".py",
   "mimetype": "text/x-python",
   "name": "python",
   "nbconvert_exporter": "python",
   "pygments_lexer": "ipython3",
   "version": "3.7.3"
  }
 },
 "nbformat": 4,
 "nbformat_minor": 2
}
